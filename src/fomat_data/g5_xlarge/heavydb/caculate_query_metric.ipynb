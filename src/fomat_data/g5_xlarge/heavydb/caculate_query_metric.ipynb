{
 "cells": [
  {
   "cell_type": "code",
   "execution_count": 2,
   "metadata": {},
   "outputs": [],
   "source": [
    "import pandas as pd\n",
    "import re\n",
    "nums_list = [\"1\", \"5\", \"10\",\"20\", \"50\"]\n",
    "tpc_types = [\"tpc-h/\"]"
   ]
  },
  {
   "cell_type": "code",
   "execution_count": 3,
   "metadata": {},
   "outputs": [],
   "source": [
    "def average_query_metrics(paths, columns_to_use, output_path):\n",
    "    # Read, filter, and clean data\n",
    "    dfs = [\n",
    "        pd.read_csv(path, comment='/')[columns_to_use]\n",
    "        .assign(query=lambda df: df['query'].astype(str).str.strip())  # Convert to string and strip\n",
    "        for path in paths\n",
    "    ]\n",
    "    \n",
    "    # Merge data and calculate average by query\n",
    "    all_data = pd.concat(dfs)\n",
    "    average_metrics = all_data.groupby('query', as_index=False).mean(numeric_only=True)\n",
    "    average_metrics = average_metrics.round(2)\n",
    "    \n",
    "    # Add column for sorting by number in query\n",
    "    average_metrics['query_number'] = average_metrics['query'].apply(lambda x: int(re.search(r'\\d+', x).group()))\n",
    "    \n",
    "    # Sort by query number\n",
    "    average_metrics = average_metrics.sort_values(by='query_number').drop(columns=['query_number'])\n",
    "    \n",
    "    # Write to file\n",
    "    average_metrics.to_csv(output_path, index=False)\n",
    "    \n",
    "    return average_metrics"
   ]
  },
  {
   "cell_type": "code",
   "execution_count": 4,
   "metadata": {},
   "outputs": [],
   "source": [
    "for tpc_type in tpc_types:\n",
    "    for nums in nums_list:\n",
    "        # average_path_1 = tpc_type+nums+\"gb/cleaned/run1_cleaned.csv\"\n",
    "        average_path_2 = tpc_type+nums+\"gb/cleaned/run2_cleaned.csv\"\n",
    "        average_path_3 = tpc_type+nums+\"gb/cleaned/run3_cleaned.csv\"\n",
    "\n",
    "        average_output_path = \"result/\"+tpc_type+\"average_query_case_\"+nums+\"gb.csv\"\n",
    "        # Đường dẫn đến 3 file CSV\n",
    "        average_paths = [\n",
    "            average_path_2,average_path_3\n",
    "        ]\n",
    "\n",
    "        columns_to_use = [\n",
    "            'query',\n",
    "            'time (ms)'\n",
    "        ]\n",
    "        # Process average metrics\n",
    "        average_metrics = average_query_metrics(\n",
    "            average_paths, \n",
    "            columns_to_use, \n",
    "            average_output_path\n",
    "        )\n"
   ]
  }
 ],
 "metadata": {
  "kernelspec": {
   "display_name": "Python 3",
   "language": "python",
   "name": "python3"
  },
  "language_info": {
   "codemirror_mode": {
    "name": "ipython",
    "version": 3
   },
   "file_extension": ".py",
   "mimetype": "text/x-python",
   "name": "python",
   "nbconvert_exporter": "python",
   "pygments_lexer": "ipython3",
   "version": "3.12.3"
  }
 },
 "nbformat": 4,
 "nbformat_minor": 2
}
