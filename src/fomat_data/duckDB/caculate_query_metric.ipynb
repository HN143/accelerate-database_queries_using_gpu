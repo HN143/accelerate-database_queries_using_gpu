{
 "cells": [
  {
   "cell_type": "code",
   "execution_count": 111,
   "metadata": {},
   "outputs": [],
   "source": [
    "import pandas as pd\n",
    "import re\n",
    "nums_list = [\"1\", \"2\", \"5\", \"10\", \"20\"]\n",
    "tpc_types = [\"tpc-ds/\", \"tpc-h/\"]"
   ]
  },
  {
   "cell_type": "code",
   "execution_count": 112,
   "metadata": {},
   "outputs": [],
   "source": [
    "def average_query_metrics(paths, columns_to_use, output_path):\n",
    "    # Read, filter, and clean data\n",
    "    dfs = [\n",
    "        pd.read_csv(path, comment='/')[columns_to_use]\n",
    "        .assign(query_id=lambda df: df['query_id'].astype(str).str.strip())  # Convert to string and strip\n",
    "        for path in paths\n",
    "    ]\n",
    "    \n",
    "    # Merge data and calculate average by query_id\n",
    "    all_data = pd.concat(dfs)\n",
    "    average_metrics = all_data.groupby('query_id', as_index=False).mean(numeric_only=True)\n",
    "    average_metrics = average_metrics.round(2)\n",
    "    \n",
    "    # Add column for sorting by number in query_id\n",
    "    average_metrics['query_number'] = average_metrics['query_id'].apply(lambda x: int(re.search(r'\\d+', x).group()))\n",
    "    \n",
    "    # Sort by query number\n",
    "    average_metrics = average_metrics.sort_values(by='query_number').drop(columns=['query_number'])\n",
    "    \n",
    "    # Write to file\n",
    "    average_metrics.to_csv(output_path, index=False)\n",
    "    \n",
    "    return average_metrics"
   ]
  },
  {
   "cell_type": "code",
   "execution_count": 113,
   "metadata": {},
   "outputs": [],
   "source": [
    "def worst_query_metrics(paths, columns_to_use, output_path):\n",
    "    # Read, filter, and clean data\n",
    "    dfs = [\n",
    "        pd.read_csv(path, comment='/')[columns_to_use]\n",
    "        .assign(query_id=lambda df: df['query_id'].astype(str).str.strip())  # Convert to string and strip\n",
    "        for path in paths\n",
    "    ]\n",
    "    \n",
    "    # Merge data and calculate average by query_id\n",
    "    all_data = pd.concat(dfs)\n",
    "    average_metrics = all_data.groupby('query_id', as_index=False).max(numeric_only=True)\n",
    "    average_metrics = average_metrics.round(2)\n",
    "    \n",
    "    # Add column for sorting by number in query_id\n",
    "    average_metrics['query_number'] = average_metrics['query_id'].apply(lambda x: int(re.search(r'\\d+', x).group()))\n",
    "    \n",
    "    # Sort by query number\n",
    "    average_metrics = average_metrics.sort_values(by='query_number').drop(columns=['query_number'])\n",
    "    \n",
    "    # Write to file\n",
    "    average_metrics.to_csv(output_path, index=False)\n",
    "    \n",
    "    return average_metrics"
   ]
  },
  {
   "cell_type": "code",
   "execution_count": 114,
   "metadata": {},
   "outputs": [],
   "source": [
    "for tpc_type in tpc_types:\n",
    "    for nums in nums_list:\n",
    "        # Đường dẫn đến 3 file CSV\n",
    "        average_path_1 = tpc_type+\"result_log/result_log_\"+nums+\"GB/time_1/average_query_sys_params.csv\"\n",
    "        average_path_2 = tpc_type+\"result_log/result_log_\"+nums+\"GB/time_2/average_query_sys_params.csv\"\n",
    "        average_path_3 = tpc_type+\"result_log/result_log_\"+nums+\"GB/time_3/average_query_sys_params.csv\"\n",
    "\n",
    "        worst_path_1 = tpc_type+\"result_log/result_log_\"+nums+\"GB/time_1/worst_query_sys_params.csv\"\n",
    "        worst_path_2 = tpc_type+\"result_log/result_log_\"+nums+\"GB/time_2/worst_query_sys_params.csv\"\n",
    "        worst_path_3 = tpc_type+\"result_log/result_log_\"+nums+\"GB/time_3/worst_query_sys_params.csv\"\n",
    "\n",
    "        worst_output_path = tpc_type+\"result_log/result_log_\"+nums+\"GB/worst_query_case_\"+nums+\"GB.csv\"\n",
    "        average_output_path = tpc_type+\"result_log/result_log_\"+nums+\"GB/average_query_case_\"+nums+\"GB.csv\"\n",
    "        # Đường dẫn đến 3 file CSV\n",
    "        average_paths = [\n",
    "            average_path_1,average_path_2,average_path_3\n",
    "        ]\n",
    "        worst_paths = [\n",
    "            worst_path_1,worst_path_2,worst_path_3\n",
    "        ]\n",
    "        # Các cột cần thiết\n",
    "        columns_to_use = [\n",
    "            \"query_id\",\"cpu_used(%)\",\"ram_used(gb)\",\"time(ms)\"\n",
    "        ]\n",
    "\n",
    "        # Process average metrics\n",
    "        average_metrics = average_query_metrics(\n",
    "            average_paths, \n",
    "            columns_to_use, \n",
    "            average_output_path\n",
    "        )\n",
    "\n",
    "        # Process worst metrics\n",
    "        worst_metrics = worst_query_metrics(\n",
    "            worst_paths,\n",
    "            columns_to_use,\n",
    "            worst_output_path\n",
    "        )"
   ]
  }
 ],
 "metadata": {
  "kernelspec": {
   "display_name": "Python 3",
   "language": "python",
   "name": "python3"
  },
  "language_info": {
   "codemirror_mode": {
    "name": "ipython",
    "version": 3
   },
   "file_extension": ".py",
   "mimetype": "text/x-python",
   "name": "python",
   "nbconvert_exporter": "python",
   "pygments_lexer": "ipython3",
   "version": "3.12.3"
  }
 },
 "nbformat": 4,
 "nbformat_minor": 2
}
