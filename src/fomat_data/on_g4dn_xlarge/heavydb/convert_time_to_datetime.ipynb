{
 "cells": [
  {
   "cell_type": "code",
   "execution_count": 59,
   "metadata": {},
   "outputs": [],
   "source": [
    "# Import necessary libraries\n",
    "import pandas as pd\n",
    "from datetime import datetime\n",
    "import matplotlib.pyplot as plt"
   ]
  },
  {
   "cell_type": "code",
   "execution_count": 60,
   "metadata": {},
   "outputs": [
    {
     "name": "stdout",
     "output_type": "stream",
     "text": [
      "Original data:\n"
     ]
    },
    {
     "data": {
      "text/html": [
       "<div>\n",
       "<style scoped>\n",
       "    .dataframe tbody tr th:only-of-type {\n",
       "        vertical-align: middle;\n",
       "    }\n",
       "\n",
       "    .dataframe tbody tr th {\n",
       "        vertical-align: top;\n",
       "    }\n",
       "\n",
       "    .dataframe thead th {\n",
       "        text-align: right;\n",
       "    }\n",
       "</style>\n",
       "<table border=\"1\" class=\"dataframe\">\n",
       "  <thead>\n",
       "    <tr style=\"text-align: right;\">\n",
       "      <th></th>\n",
       "      <th>query</th>\n",
       "      <th>start at (ms)</th>\n",
       "      <th>end at (ms)</th>\n",
       "      <th>time</th>\n",
       "    </tr>\n",
       "  </thead>\n",
       "  <tbody>\n",
       "    <tr>\n",
       "      <th>0</th>\n",
       "      <td>query 1</td>\n",
       "      <td>16:16:29.913</td>\n",
       "      <td>16:16:30.546</td>\n",
       "      <td>439</td>\n",
       "    </tr>\n",
       "    <tr>\n",
       "      <th>1</th>\n",
       "      <td>query 2</td>\n",
       "      <td>16:16:30.547</td>\n",
       "      <td>16:16:31.559</td>\n",
       "      <td>770</td>\n",
       "    </tr>\n",
       "    <tr>\n",
       "      <th>2</th>\n",
       "      <td>query 3</td>\n",
       "      <td>16:16:31.561</td>\n",
       "      <td>16:16:31.889</td>\n",
       "      <td>133</td>\n",
       "    </tr>\n",
       "    <tr>\n",
       "      <th>3</th>\n",
       "      <td>query 4</td>\n",
       "      <td>16:16:31.891</td>\n",
       "      <td>16:16:32.086</td>\n",
       "      <td></td>\n",
       "    </tr>\n",
       "    <tr>\n",
       "      <th>4</th>\n",
       "      <td>query 5</td>\n",
       "      <td>16:16:32.088</td>\n",
       "      <td>16:16:32.282</td>\n",
       "      <td></td>\n",
       "    </tr>\n",
       "  </tbody>\n",
       "</table>\n",
       "</div>"
      ],
      "text/plain": [
       "     query  start at (ms)    end at (ms)  time\n",
       "0  query 1   16:16:29.913   16:16:30.546   439\n",
       "1  query 2   16:16:30.547   16:16:31.559   770\n",
       "2  query 3   16:16:31.561   16:16:31.889   133\n",
       "3  query 4   16:16:31.891   16:16:32.086      \n",
       "4  query 5   16:16:32.088   16:16:32.282      "
      ]
     },
     "execution_count": 60,
     "metadata": {},
     "output_type": "execute_result"
    }
   ],
   "source": [
    "# Load the CSV file\n",
    "file_path = '/home/buiduckhanh/file log/query_execution_times1.csv'\n",
    "output_path = '/home/buiduckhanh/file log/query_execution_times1.csv'\n",
    "df = pd.read_csv(file_path)\n",
    "\n",
    "# Display the first few rows\n",
    "print(\"Original data:\")\n",
    "df.head()"
   ]
  },
  {
   "cell_type": "code",
   "execution_count": 61,
   "metadata": {},
   "outputs": [
    {
     "name": "stdout",
     "output_type": "stream",
     "text": [
      "Column names after cleaning:\n",
      "['query', 'start at (ms)', 'end at (ms)', 'time']\n"
     ]
    }
   ],
   "source": [
    "# Strip whitespace from column names\n",
    "df.columns = df.columns.str.strip()\n",
    "\n",
    "# Display column names to verify\n",
    "print(\"Column names after cleaning:\")\n",
    "print(df.columns.tolist())"
   ]
  },
  {
   "cell_type": "code",
   "execution_count": 62,
   "metadata": {},
   "outputs": [
    {
     "name": "stdout",
     "output_type": "stream",
     "text": [
      "Time columns to convert: ['start at (ms)', 'end at (ms)']\n",
      "DataFrame saved to /home/buiduckhanh/file log/query_execution_times1.csv\n"
     ]
    }
   ],
   "source": [
    "# Identify time columns (ending with 'time(ms)')\n",
    "time_columns = [col for col in df.columns if '(ms)' in col]\n",
    "print(f\"Time columns to convert: {time_columns}\")\n",
    "\n",
    "# Create a reference date to combine with time values\n",
    "reference_date = '2023-01-01'\n",
    "\n",
    "# Convert time columns to datetime (replacing the original columns)\n",
    "for col in time_columns:\n",
    "    # Convert time strings to datetime and replace the original column\n",
    "    df[col] = pd.to_datetime(reference_date + ' ' + df[col])\n",
    "# Display the first few rows with converted columns\n",
    "df.head()\n",
    "df.to_csv(output_path, index=False)\n",
    "print(f\"DataFrame saved to {output_path}\")"
   ]
  }
 ],
 "metadata": {
  "kernelspec": {
   "display_name": "Python 3",
   "language": "python",
   "name": "python3"
  },
  "language_info": {
   "codemirror_mode": {
    "name": "ipython",
    "version": 3
   },
   "file_extension": ".py",
   "mimetype": "text/x-python",
   "name": "python",
   "nbconvert_exporter": "python",
   "pygments_lexer": "ipython3",
   "version": "3.12.3"
  }
 },
 "nbformat": 4,
 "nbformat_minor": 2
}
