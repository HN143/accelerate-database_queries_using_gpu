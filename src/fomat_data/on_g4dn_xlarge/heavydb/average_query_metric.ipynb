{
 "cells": [
  {
   "cell_type": "code",
   "execution_count": null,
   "metadata": {},
   "outputs": [],
   "source": [
    "import pandas as pd\n",
    "import re\n",
    "\n",
    "# Đường dẫn đến 3 file CSV\n",
    "file_paths = [\n",
    "    'tpc-h/20gb/run1/query_metrics_worst_case_run1.csv',\n",
    "    'tpc-h/20gb/run2/query_metrics_worst_case_run2.csv',\n",
    "    'tpc-h/20gb/run3/query_metrics_worst_case_run3.csv'\n",
    "]\n",
    "\n",
    "# Các cột cần thiết\n",
    "columns_to_use = [\n",
    "    'query_id',\n",
    "    'time (ms)',\n",
    "    'avg_cpu_usage',\n",
    "    'avg_gpu_usage',\n",
    "    'avg_ram_usage',\n",
    "    'avg_vram_usage',\n",
    "    'avg_power_usage'\n",
    "]\n",
    "\n",
    "# Đọc, lọc, và làm sạch dữ liệu\n",
    "dfs = [pd.read_csv(path, comment='/')[columns_to_use].assign(query_id=lambda df: df['query_id'].str.strip()) for path in file_paths]\n",
    "\n",
    "# Gộp dữ liệu và tính trung bình theo query_id\n",
    "all_data = pd.concat(dfs)\n",
    "average_metrics = all_data.groupby('query_id', as_index=False).mean(numeric_only=True)\n",
    "average_metrics = average_metrics.round(2)\n",
    "# Thêm cột số thứ tự để sort theo số trong query_id\n",
    "average_metrics['query_number'] = average_metrics['query_id'].apply(lambda x: int(re.search(r'\\d+', x).group()))\n",
    "\n",
    "# Sắp xếp theo số thứ tự\n",
    "average_metrics = average_metrics.sort_values(by='query_number').drop(columns=['query_number'])\n",
    "\n",
    "# Ghi ra file\n",
    "output_path = 'average_query_metrics_worst_case_20gb.csv'\n",
    "average_metrics.to_csv(output_path, index=False)\n"
   ]
  }
 ],
 "metadata": {
  "kernelspec": {
   "display_name": "Python 3",
   "language": "python",
   "name": "python3"
  },
  "language_info": {
   "codemirror_mode": {
    "name": "ipython",
    "version": 3
   },
   "file_extension": ".py",
   "mimetype": "text/x-python",
   "name": "python",
   "nbconvert_exporter": "python",
   "pygments_lexer": "ipython3",
   "version": "3.12.3"
  }
 },
 "nbformat": 4,
 "nbformat_minor": 2
}
