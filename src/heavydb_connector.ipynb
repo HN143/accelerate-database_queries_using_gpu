{
 "cells": [
  {
   "cell_type": "code",
   "execution_count": 1,
   "metadata": {},
   "outputs": [
    {
     "name": "stderr",
     "output_type": "stream",
     "text": [
      "using legacy validation callback\n"
     ]
    }
   ],
   "source": [
    "import heavyai\n",
    "\n",
    "class HeavyDBConnector:\n",
    "    def __init__(self, host: str, port: int, user: str, password: str, dbname: str):\n",
    "        self.connection = heavyai.connect(\n",
    "            host=host, port=port, user=user, password=password, dbname=dbname\n",
    "        )\n",
    "\n",
    "    def run_query(self, query: str):\n",
    "        cursor = self.connection.cursor()\n",
    "        cursor.execute(query)\n",
    "        return cursor.fetchall()\n",
    "\n",
    "# Example usage:\n",
    "# connector = HeavyDBConnector(host=\"localhost\", port=6274, user=\"admin\", password=\"password\", dbname=\"mydb\")\n",
    "# result = connector.run_query(\"SELECT * FROM my_table;\")\n",
    "# print(result)\n"
   ]
  }
 ],
 "metadata": {
  "kernelspec": {
   "display_name": ".venv",
   "language": "python",
   "name": "python3"
  },
  "language_info": {
   "codemirror_mode": {
    "name": "ipython",
    "version": 3
   },
   "file_extension": ".py",
   "mimetype": "text/x-python",
   "name": "python",
   "nbconvert_exporter": "python",
   "pygments_lexer": "ipython3",
   "version": "3.12.7"
  }
 },
 "nbformat": 4,
 "nbformat_minor": 2
}
