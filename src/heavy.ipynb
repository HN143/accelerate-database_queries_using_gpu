{
 "cells": [
  {
   "cell_type": "code",
   "execution_count": null,
   "metadata": {},
   "outputs": [],
   "source": [
    "# Generate .env file from .env.example. Then modify the .env file to include the correct values for your environment\n",
    "!cp .env.example .env"
   ]
  },
  {
   "cell_type": "code",
   "execution_count": 20,
   "metadata": {},
   "outputs": [],
   "source": [
    "# Load configs\n",
    "import dotenv\n",
    "import os\n",
    "\n",
    "dotenv.load_dotenv()\n",
    "class Config:\n",
    "    HEAVY_HOST = os.getenv(\"HEAVY_HOST\")\n",
    "config = Config()"
   ]
  },
  {
   "cell_type": "code",
   "execution_count": 21,
   "metadata": {},
   "outputs": [],
   "source": [
    "# Docs: https://heavyai.readthedocs.io/en/latest/\n",
    "# Connect to heavydb\n",
    "from heavyai import connect\n",
    "con = connect(user=\"admin\", password=\"HyperInteractive\", host=config.HEAVY_HOST, dbname=\"heavyai\")"
   ]
  },
  {
   "cell_type": "code",
   "execution_count": 18,
   "metadata": {},
   "outputs": [
    {
     "data": {
      "text/plain": [
       "['heavyai_us_states',\n",
       " 'heavyai_us_counties',\n",
       " 'heavyai_countries',\n",
       " 'dbgen_version',\n",
       " 'customer_address',\n",
       " 'customer_demographics',\n",
       " 'date_dim',\n",
       " 'warehouse',\n",
       " 'ship_mode',\n",
       " 'time_dim',\n",
       " 'reason',\n",
       " 'income_band',\n",
       " 'item',\n",
       " 'store',\n",
       " 'call_center',\n",
       " 'customer',\n",
       " 'web_site',\n",
       " 'store_returns',\n",
       " 'household_demographics',\n",
       " 'web_page',\n",
       " 'promotion',\n",
       " 'catalog_page',\n",
       " 'inventory',\n",
       " 'catalog_returns',\n",
       " 'web_returns',\n",
       " 'web_sales',\n",
       " 'catalog_sales',\n",
       " 'store_sales']"
      ]
     },
     "execution_count": 18,
     "metadata": {},
     "output_type": "execute_result"
    }
   ],
   "source": [
    "# Get tables\n",
    "con.get_tables()"
   ]
  },
  {
   "cell_type": "code",
   "execution_count": 22,
   "metadata": {},
   "outputs": [
    {
     "data": {
      "text/html": [
       "<div>\n",
       "<style scoped>\n",
       "    .dataframe tbody tr th:only-of-type {\n",
       "        vertical-align: middle;\n",
       "    }\n",
       "\n",
       "    .dataframe tbody tr th {\n",
       "        vertical-align: top;\n",
       "    }\n",
       "\n",
       "    .dataframe thead th {\n",
       "        text-align: right;\n",
       "    }\n",
       "</style>\n",
       "<table border=\"1\" class=\"dataframe\">\n",
       "  <thead>\n",
       "    <tr style=\"text-align: right;\">\n",
       "      <th></th>\n",
       "      <th>EXPR$0</th>\n",
       "    </tr>\n",
       "  </thead>\n",
       "  <tbody>\n",
       "    <tr>\n",
       "      <th>0</th>\n",
       "      <td>2880403</td>\n",
       "    </tr>\n",
       "  </tbody>\n",
       "</table>\n",
       "</div>"
      ],
      "text/plain": [
       "    EXPR$0\n",
       "0  2880403"
      ]
     },
     "execution_count": 22,
     "metadata": {},
     "output_type": "execute_result"
    }
   ],
   "source": [
    "# Sample query\n",
    "query = \"SELECT COUNT(*) FROM store_sales;\"\n",
    "df = con.select_ipc(query)\n",
    "df.head()\n",
    "\n",
    "# with con.cursor() as c:\n",
    "#     c.execute(\"SELECT * FROM call_center limit 100\")\n",
    "#     print(\"rowcount\", c.rowcount)\n",
    "#     print(\"description\", c.description)\n",
    "#     print(\"raw result\", list(c))"
   ]
  }
 ],
 "metadata": {
  "kernelspec": {
   "display_name": "base",
   "language": "python",
   "name": "python3"
  },
  "language_info": {
   "codemirror_mode": {
    "name": "ipython",
    "version": 3
   },
   "file_extension": ".py",
   "mimetype": "text/x-python",
   "name": "python",
   "nbconvert_exporter": "python",
   "pygments_lexer": "ipython3",
   "version": "3.12.7"
  }
 },
 "nbformat": 4,
 "nbformat_minor": 2
}
