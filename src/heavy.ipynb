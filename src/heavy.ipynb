{
 "cells": [
  {
   "cell_type": "code",
   "execution_count": null,
   "metadata": {},
   "outputs": [],
   "source": [
    "# Generate .env file from .env.example. Then modify the .env file to include the correct values for your environment\n",
    "!cp .env.example .env"
   ]
  },
  {
   "cell_type": "code",
   "execution_count": 1,
   "metadata": {},
   "outputs": [],
   "source": [
    "# Load configs\n",
    "import dotenv\n",
    "import os\n",
    "\n",
    "dotenv.load_dotenv()\n",
    "class Config:\n",
    "    HEAVY_HOST = os.getenv(\"HEAVY_HOST\")\n",
    "config = Config()"
   ]
  },
  {
   "cell_type": "code",
   "execution_count": 2,
   "metadata": {},
   "outputs": [
    {
     "name": "stderr",
     "output_type": "stream",
     "text": [
      "using legacy validation callback\n"
     ]
    }
   ],
   "source": [
    "# Docs: https://heavyai.readthedocs.io/en/latest/\n",
    "# Connect to heavydb\n",
    "from heavyai import connect\n",
    "con = connect(user=\"admin\", password=\"HyperInteractive\", host=config.HEAVY_HOST, dbname=\"heavyai\")"
   ]
  },
  {
   "cell_type": "code",
   "execution_count": 3,
   "metadata": {},
   "outputs": [
    {
     "data": {
      "text/plain": [
       "['heavyai_us_states',\n",
       " 'heavyai_us_counties',\n",
       " 'heavyai_countries',\n",
       " 'flights_2008_10k',\n",
       " 'flights_2008_7M']"
      ]
     },
     "execution_count": 3,
     "metadata": {},
     "output_type": "execute_result"
    }
   ],
   "source": [
    "# Get tables\n",
    "con.get_tables()"
   ]
  },
  {
   "cell_type": "code",
   "execution_count": 8,
   "metadata": {},
   "outputs": [
    {
     "name": "stdout",
     "output_type": "stream",
     "text": [
      "   depdelay  arrdelay\n",
      "0         8       -14\n",
      "1        19         2\n",
      "2         8        14\n",
      "3        -4        -6\n",
      "4        34        34\n",
      "rowcount 100\n",
      "description [Description(name='depdelay', type_code=0, display_size=None, internal_size=None, precision=None, scale=None, null_ok=True), Description(name='arrdelay', type_code=0, display_size=None, internal_size=None, precision=None, scale=None, null_ok=True)]\n",
      "raw result [(8, -14), (19, 2), (8, 14), (-4, -6), (34, 34), (25, 11), (67, 57), (-1, -18), (2, 2), (0, -16), (6, 1), (94, 80), (-4, 1), (0, 10), (2, -4), (9, 11), (27, 15), (9, -15), (28, 16), (51, 37), (1, -3), (32, 19), (20, 6), (9, -7), (1, -8), (25, 14), (87, 47), (29, 4), (1, -24), (4, -22), (82, 64), (3, -21), (2, -7), (12, -4), (19, -5), (39, 14), (1, -20), (82, 72), (22, 5), (29, 11), (56, 29), (24, -11), (6, -22), (6, -26), (13, -12), (18, -8), (-1, -28), (1, 8), (15, 21), (315, 304), (0, -11), (5, -2), (45, 35), (53, 49), (10, 38), (0, -9), (23, 19), (26, 30), (30, 26), (0, -7), (4, -8), (-2, 5), (-7, -2), (5, 3), (9, 4), (0, -13), (0, 0), (1, -3), (1, -2), (8, 1), (38, 31), (12, 6), (-5, -9), (1, 8), (44, 36), (12, 11), (8, 10), (58, 62), (9, 5), (53, 43), (-2, -9), (83, 77), (57, 50), (-1, -4), (14, 8), (2, -4), (97, 78), (34, 38), (16, 4), (63, 54), (15, 4), (59, 49), (1, -4), (1, -1), (45, 31), (26, 20), (69, 60), (4, -1), (36, 24), (69, 52)]\n"
     ]
    }
   ],
   "source": [
    "# Sample query\n",
    "query = \"SELECT depdelay, arrdelay FROM flights_2008_10k limit 100\"\n",
    "df = con.select_ipc(query)\n",
    "print(df.head())\n",
    "\n",
    "with con.cursor() as c:\n",
    "    c.execute(\"SELECT depdelay, arrdelay FROM flights_2008_10k limit 100\")\n",
    "    print(\"rowcount\", c.rowcount)\n",
    "    print(\"description\", c.description)\n",
    "    print(\"raw result\", list(c))"
   ]
  }
 ],
 "metadata": {
  "kernelspec": {
   "display_name": "base",
   "language": "python",
   "name": "python3"
  },
  "language_info": {
   "codemirror_mode": {
    "name": "ipython",
    "version": 3
   },
   "file_extension": ".py",
   "mimetype": "text/x-python",
   "name": "python",
   "nbconvert_exporter": "python",
   "pygments_lexer": "ipython3",
   "version": "3.12.7"
  }
 },
 "nbformat": 4,
 "nbformat_minor": 2
}
