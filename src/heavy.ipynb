{
 "cells": [
  {
   "cell_type": "code",
   "execution_count": 8,
   "metadata": {},
   "outputs": [],
   "source": [
    "# Generate .env file from .env.example. Then modify the .env file to include the correct values for your environment\n",
    "!cp .env.example .env"
   ]
  },
  {
   "cell_type": "code",
   "execution_count": 1,
   "metadata": {},
   "outputs": [],
   "source": [
    "# Load configs\n",
    "import dotenv\n",
    "import os\n",
    "\n",
    "dotenv.load_dotenv(\"./.env\")\n",
    "class Config:\n",
    "    HEAVY_HOST = os.getenv(\"HEAVY_HOST\")\n",
    "config = Config()"
   ]
  },
  {
   "cell_type": "code",
   "execution_count": 2,
   "metadata": {},
   "outputs": [
    {
     "name": "stdout",
     "output_type": "stream",
     "text": [
      "47.129.190.206\n"
     ]
    }
   ],
   "source": [
    "print(config.HEAVY_HOST)"
   ]
  },
  {
   "cell_type": "code",
   "execution_count": 4,
   "metadata": {},
   "outputs": [
    {
     "name": "stderr",
     "output_type": "stream",
     "text": [
      "Could not connect to any of [('47.129.190.206', 6274)]\n"
     ]
    },
    {
     "ename": "OperationalError",
     "evalue": "Could not connect to database",
     "output_type": "error",
     "traceback": [
      "\u001b[31m---------------------------------------------------------------------------\u001b[39m",
      "\u001b[31mTTransportException\u001b[39m                       Traceback (most recent call last)",
      "\u001b[36mFile \u001b[39m\u001b[32m~/.pyenv/versions/anaconda3-2024.10-1/lib/python3.12/site-packages/heavydb/connection.py:268\u001b[39m, in \u001b[36mConnection.__init__\u001b[39m\u001b[34m(self, uri, user, password, host, port, dbname, protocol, sessionid, bin_cert_validate, bin_ca_certs, idpurl, idpformusernamefield, idpformpasswordfield, idpsslverify)\u001b[39m\n\u001b[32m    267\u001b[39m \u001b[38;5;28;01mtry\u001b[39;00m:\n\u001b[32m--> \u001b[39m\u001b[32m268\u001b[39m     \u001b[38;5;28;43mself\u001b[39;49m\u001b[43m.\u001b[49m\u001b[43m_transport\u001b[49m\u001b[43m.\u001b[49m\u001b[43mopen\u001b[49m\u001b[43m(\u001b[49m\u001b[43m)\u001b[49m\n\u001b[32m    269\u001b[39m \u001b[38;5;28;01mexcept\u001b[39;00m TTransportException \u001b[38;5;28;01mas\u001b[39;00m e:\n",
      "\u001b[36mFile \u001b[39m\u001b[32m~/.pyenv/versions/anaconda3-2024.10-1/lib/python3.12/site-packages/thrift/transport/TTransport.py:155\u001b[39m, in \u001b[36mTBufferedTransport.open\u001b[39m\u001b[34m(self)\u001b[39m\n\u001b[32m    154\u001b[39m \u001b[38;5;28;01mdef\u001b[39;00m\u001b[38;5;250m \u001b[39m\u001b[34mopen\u001b[39m(\u001b[38;5;28mself\u001b[39m):\n\u001b[32m--> \u001b[39m\u001b[32m155\u001b[39m     \u001b[38;5;28;01mreturn\u001b[39;00m \u001b[38;5;28;43mself\u001b[39;49m\u001b[43m.\u001b[49m\u001b[43m__trans\u001b[49m\u001b[43m.\u001b[49m\u001b[43mopen\u001b[49m\u001b[43m(\u001b[49m\u001b[43m)\u001b[49m\n",
      "\u001b[36mFile \u001b[39m\u001b[32m~/.pyenv/versions/anaconda3-2024.10-1/lib/python3.12/site-packages/thrift/transport/TSocket.py:153\u001b[39m, in \u001b[36mTSocket.open\u001b[39m\u001b[34m(self)\u001b[39m\n\u001b[32m    152\u001b[39m logger.error(msg)\n\u001b[32m--> \u001b[39m\u001b[32m153\u001b[39m \u001b[38;5;28;01mraise\u001b[39;00m TTransportException(\u001b[38;5;28mtype\u001b[39m=TTransportException.NOT_OPEN, message=msg)\n",
      "\u001b[31mTTransportException\u001b[39m: Could not connect to any of [('47.129.190.206', 6274)]",
      "\nThe above exception was the direct cause of the following exception:\n",
      "\u001b[31mOperationalError\u001b[39m                          Traceback (most recent call last)",
      "\u001b[36mCell\u001b[39m\u001b[36m \u001b[39m\u001b[32mIn[4]\u001b[39m\u001b[32m, line 4\u001b[39m\n\u001b[32m      1\u001b[39m \u001b[38;5;66;03m# Docs: https://heavyai.readthedocs.io/en/latest/\u001b[39;00m\n\u001b[32m      2\u001b[39m \u001b[38;5;66;03m# Connect to heavydb\u001b[39;00m\n\u001b[32m      3\u001b[39m \u001b[38;5;28;01mfrom\u001b[39;00m\u001b[38;5;250m \u001b[39m\u001b[34;01mheavyai\u001b[39;00m\u001b[38;5;250m \u001b[39m\u001b[38;5;28;01mimport\u001b[39;00m connect\n\u001b[32m----> \u001b[39m\u001b[32m4\u001b[39m con = \u001b[43mconnect\u001b[49m\u001b[43m(\u001b[49m\u001b[43muser\u001b[49m\u001b[43m=\u001b[49m\u001b[33;43m\"\u001b[39;49m\u001b[33;43madmin\u001b[39;49m\u001b[33;43m\"\u001b[39;49m\u001b[43m,\u001b[49m\u001b[43m \u001b[49m\u001b[43mpassword\u001b[49m\u001b[43m=\u001b[49m\u001b[33;43m\"\u001b[39;49m\u001b[33;43mHyperInteractive\u001b[39;49m\u001b[33;43m\"\u001b[39;49m\u001b[43m,\u001b[49m\u001b[43m \u001b[49m\u001b[43mhost\u001b[49m\u001b[43m=\u001b[49m\u001b[43mconfig\u001b[49m\u001b[43m.\u001b[49m\u001b[43mHEAVY_HOST\u001b[49m\u001b[43m,\u001b[49m\u001b[43m \u001b[49m\u001b[43mdbname\u001b[49m\u001b[43m=\u001b[49m\u001b[33;43m\"\u001b[39;49m\u001b[33;43mheavyai\u001b[39;49m\u001b[33;43m\"\u001b[39;49m\u001b[43m)\u001b[49m\n",
      "\u001b[36mFile \u001b[39m\u001b[32m~/.pyenv/versions/anaconda3-2024.10-1/lib/python3.12/site-packages/heavyai/connection.py:810\u001b[39m, in \u001b[36mconnect\u001b[39m\u001b[34m(uri, user, password, host, port, dbname, protocol, sessionid, bin_cert_validate, bin_ca_certs, idpurl, idpformusernamefield, idpformpasswordfield, idpsslverify)\u001b[39m\n\u001b[32m    743\u001b[39m \u001b[38;5;28;01mdef\u001b[39;00m\u001b[38;5;250m \u001b[39m\u001b[34mconnect\u001b[39m(\n\u001b[32m    744\u001b[39m     uri=\u001b[38;5;28;01mNone\u001b[39;00m,\n\u001b[32m    745\u001b[39m     user=\u001b[38;5;28;01mNone\u001b[39;00m,\n\u001b[32m   (...)\u001b[39m\u001b[32m    757\u001b[39m     idpsslverify=\u001b[38;5;28;01mTrue\u001b[39;00m,\n\u001b[32m    758\u001b[39m ):\n\u001b[32m    759\u001b[39m \u001b[38;5;250m    \u001b[39m\u001b[33;03m\"\"\"\u001b[39;00m\n\u001b[32m    760\u001b[39m \u001b[33;03m    Create a new Connection.\u001b[39;00m\n\u001b[32m    761\u001b[39m \n\u001b[32m   (...)\u001b[39m\u001b[32m    808\u001b[39m \n\u001b[32m    809\u001b[39m \u001b[33;03m    \"\"\"\u001b[39;00m\n\u001b[32m--> \u001b[39m\u001b[32m810\u001b[39m     \u001b[38;5;28;01mreturn\u001b[39;00m \u001b[43mConnection\u001b[49m\u001b[43m(\u001b[49m\n\u001b[32m    811\u001b[39m \u001b[43m        \u001b[49m\u001b[43muri\u001b[49m\u001b[43m=\u001b[49m\u001b[43muri\u001b[49m\u001b[43m,\u001b[49m\n\u001b[32m    812\u001b[39m \u001b[43m        \u001b[49m\u001b[43muser\u001b[49m\u001b[43m=\u001b[49m\u001b[43muser\u001b[49m\u001b[43m,\u001b[49m\n\u001b[32m    813\u001b[39m \u001b[43m        \u001b[49m\u001b[43mpassword\u001b[49m\u001b[43m=\u001b[49m\u001b[43mpassword\u001b[49m\u001b[43m,\u001b[49m\n\u001b[32m    814\u001b[39m \u001b[43m        \u001b[49m\u001b[43mhost\u001b[49m\u001b[43m=\u001b[49m\u001b[43mhost\u001b[49m\u001b[43m,\u001b[49m\n\u001b[32m    815\u001b[39m \u001b[43m        \u001b[49m\u001b[43mport\u001b[49m\u001b[43m=\u001b[49m\u001b[43mport\u001b[49m\u001b[43m,\u001b[49m\n\u001b[32m    816\u001b[39m \u001b[43m        \u001b[49m\u001b[43mdbname\u001b[49m\u001b[43m=\u001b[49m\u001b[43mdbname\u001b[49m\u001b[43m,\u001b[49m\n\u001b[32m    817\u001b[39m \u001b[43m        \u001b[49m\u001b[43mprotocol\u001b[49m\u001b[43m=\u001b[49m\u001b[43mprotocol\u001b[49m\u001b[43m,\u001b[49m\n\u001b[32m    818\u001b[39m \u001b[43m        \u001b[49m\u001b[43msessionid\u001b[49m\u001b[43m=\u001b[49m\u001b[43msessionid\u001b[49m\u001b[43m,\u001b[49m\n\u001b[32m    819\u001b[39m \u001b[43m        \u001b[49m\u001b[43mbin_cert_validate\u001b[49m\u001b[43m=\u001b[49m\u001b[43mbin_cert_validate\u001b[49m\u001b[43m,\u001b[49m\n\u001b[32m    820\u001b[39m \u001b[43m        \u001b[49m\u001b[43mbin_ca_certs\u001b[49m\u001b[43m=\u001b[49m\u001b[43mbin_ca_certs\u001b[49m\u001b[43m,\u001b[49m\n\u001b[32m    821\u001b[39m \u001b[43m        \u001b[49m\u001b[43midpurl\u001b[49m\u001b[43m=\u001b[49m\u001b[43midpurl\u001b[49m\u001b[43m,\u001b[49m\n\u001b[32m    822\u001b[39m \u001b[43m        \u001b[49m\u001b[43midpformusernamefield\u001b[49m\u001b[43m=\u001b[49m\u001b[43midpformusernamefield\u001b[49m\u001b[43m,\u001b[49m\n\u001b[32m    823\u001b[39m \u001b[43m        \u001b[49m\u001b[43midpformpasswordfield\u001b[49m\u001b[43m=\u001b[49m\u001b[43midpformpasswordfield\u001b[49m\u001b[43m,\u001b[49m\n\u001b[32m    824\u001b[39m \u001b[43m        \u001b[49m\u001b[43midpsslverify\u001b[49m\u001b[43m=\u001b[49m\u001b[43midpsslverify\u001b[49m\u001b[43m,\u001b[49m\n\u001b[32m    825\u001b[39m \u001b[43m    \u001b[49m\u001b[43m)\u001b[49m\n",
      "\u001b[36mFile \u001b[39m\u001b[32m~/.pyenv/versions/anaconda3-2024.10-1/lib/python3.12/site-packages/heavydb/connection.py:272\u001b[39m, in \u001b[36mConnection.__init__\u001b[39m\u001b[34m(self, uri, user, password, host, port, dbname, protocol, sessionid, bin_cert_validate, bin_ca_certs, idpurl, idpformusernamefield, idpformpasswordfield, idpsslverify)\u001b[39m\n\u001b[32m    270\u001b[39m \u001b[38;5;28;01mif\u001b[39;00m e.NOT_OPEN:\n\u001b[32m    271\u001b[39m     err = OperationalError(\u001b[33m\"\u001b[39m\u001b[33mCould not connect to database\u001b[39m\u001b[33m\"\u001b[39m)\n\u001b[32m--> \u001b[39m\u001b[32m272\u001b[39m     \u001b[38;5;28;01mraise\u001b[39;00m err \u001b[38;5;28;01mfrom\u001b[39;00m\u001b[38;5;250m \u001b[39m\u001b[34;01me\u001b[39;00m\n\u001b[32m    273\u001b[39m \u001b[38;5;28;01melse\u001b[39;00m:\n\u001b[32m    274\u001b[39m     \u001b[38;5;28;01mraise\u001b[39;00m\n",
      "\u001b[31mOperationalError\u001b[39m: Could not connect to database"
     ]
    }
   ],
   "source": [
    "# Docs: https://heavyai.readthedocs.io/en/latest/\n",
    "# Connect to heavydb\n",
    "from heavyai import connect\n",
    "con = connect(user=\"admin\", password=\"HyperInteractive\", host=config.HEAVY_HOST, dbname=\"heavyai\")"
   ]
  },
  {
   "cell_type": "code",
   "execution_count": 11,
   "metadata": {},
   "outputs": [
    {
     "data": {
      "text/plain": [
       "['heavyai_us_states',\n",
       " 'heavyai_us_counties',\n",
       " 'heavyai_countries',\n",
       " 'dbgen_version',\n",
       " 'customer_address',\n",
       " 'customer_demographics',\n",
       " 'date_dim',\n",
       " 'warehouse',\n",
       " 'ship_mode',\n",
       " 'time_dim',\n",
       " 'reason',\n",
       " 'income_band',\n",
       " 'item',\n",
       " 'store',\n",
       " 'call_center',\n",
       " 'customer',\n",
       " 'web_site',\n",
       " 'store_returns',\n",
       " 'household_demographics',\n",
       " 'web_page',\n",
       " 'promotion',\n",
       " 'catalog_page',\n",
       " 'inventory',\n",
       " 'catalog_returns',\n",
       " 'web_returns',\n",
       " 'web_sales',\n",
       " 'catalog_sales',\n",
       " 'store_sales']"
      ]
     },
     "execution_count": 11,
     "metadata": {},
     "output_type": "execute_result"
    }
   ],
   "source": [
    "# Get tables\n",
    "con.get_tables()"
   ]
  },
  {
   "cell_type": "code",
   "execution_count": 12,
   "metadata": {},
   "outputs": [
    {
     "data": {
      "text/html": [
       "<div>\n",
       "<style scoped>\n",
       "    .dataframe tbody tr th:only-of-type {\n",
       "        vertical-align: middle;\n",
       "    }\n",
       "\n",
       "    .dataframe tbody tr th {\n",
       "        vertical-align: top;\n",
       "    }\n",
       "\n",
       "    .dataframe thead th {\n",
       "        text-align: right;\n",
       "    }\n",
       "</style>\n",
       "<table border=\"1\" class=\"dataframe\">\n",
       "  <thead>\n",
       "    <tr style=\"text-align: right;\">\n",
       "      <th></th>\n",
       "      <th>EXPR$0</th>\n",
       "    </tr>\n",
       "  </thead>\n",
       "  <tbody>\n",
       "    <tr>\n",
       "      <th>0</th>\n",
       "      <td>2880403</td>\n",
       "    </tr>\n",
       "  </tbody>\n",
       "</table>\n",
       "</div>"
      ],
      "text/plain": [
       "    EXPR$0\n",
       "0  2880403"
      ]
     },
     "execution_count": 12,
     "metadata": {},
     "output_type": "execute_result"
    }
   ],
   "source": [
    "# Sample query\n",
    "query = \"SELECT COUNT(*) FROM store_sales;\"\n",
    "df = con.select_ipc(query)\n",
    "df.head()\n",
    "\n",
    "# with con.cursor() as c:\n",
    "#     c.execute(\"SELECT * FROM call_center limit 100\")\n",
    "#     print(\"rowcount\", c.rowcount)\n",
    "#     print(\"description\", c.description)\n",
    "#     print(\"raw result\", list(c))"
   ]
  }
 ],
 "metadata": {
  "kernelspec": {
   "display_name": "base",
   "language": "python",
   "name": "python3"
  },
  "language_info": {
   "codemirror_mode": {
    "name": "ipython",
    "version": 3
   },
   "file_extension": ".py",
   "mimetype": "text/x-python",
   "name": "python",
   "nbconvert_exporter": "python",
   "pygments_lexer": "ipython3",
   "version": "3.12.7"
  }
 },
 "nbformat": 4,
 "nbformat_minor": 2
}
